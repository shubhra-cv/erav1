{
 "cells": [
  {
   "cell_type": "code",
   "execution_count": 1,
   "metadata": {
    "id": "0m2JWFliFfKT"
   },
   "outputs": [],
   "source": [
    "from __future__ import print_function\n",
    "import torch\n",
    "import torch.nn as nn\n",
    "import torch.nn.functional as F\n",
    "import torch.optim as optim\n",
    "from torchvision import datasets, transforms"
   ]
  },
  {
   "cell_type": "code",
   "execution_count": 2,
   "metadata": {
    "id": "8fDefDhaFlwH"
   },
   "outputs": [],
   "source": [
    "from model import train,test,Net,model_summary\n",
    "from utils import fetch_dataset"
   ]
  },
  {
   "cell_type": "code",
   "execution_count": 3,
   "metadata": {
    "id": "h_Cx9q2QFgM7"
   },
   "outputs": [],
   "source": [
    "use_cuda=torch.cuda.is_available()\n",
    "device = torch.device(\"cuda\" if use_cuda else \"cpu\")\n",
    "model = Net().to(device)"
   ]
  },
  {
   "cell_type": "code",
   "execution_count": 4,
   "metadata": {
    "colab": {
     "base_uri": "https://localhost:8080/"
    },
    "id": "xdydjYTZFyi3",
    "outputId": "269f3b1a-aba2-4ecc-c966-048d948ae61f"
   },
   "outputs": [
    {
     "name": "stdout",
     "output_type": "stream",
     "text": [
      "----------------------------------------------------------------\n",
      "        Layer (type)               Output Shape         Param #\n",
      "================================================================\n",
      "            Conv2d-1            [-1, 8, 26, 26]              72\n",
      "       BatchNorm2d-2            [-1, 8, 26, 26]              16\n",
      "           Dropout-3            [-1, 8, 26, 26]               0\n",
      "            Conv2d-4           [-1, 16, 24, 24]           1,152\n",
      "       BatchNorm2d-5           [-1, 16, 24, 24]              32\n",
      "           Dropout-6           [-1, 16, 24, 24]               0\n",
      "         MaxPool2d-7           [-1, 16, 12, 12]               0\n",
      "            Conv2d-8           [-1, 32, 10, 10]           4,608\n",
      "       BatchNorm2d-9           [-1, 32, 10, 10]              64\n",
      "          Dropout-10           [-1, 32, 10, 10]               0\n",
      "           Conv2d-11              [-1, 8, 8, 8]           2,304\n",
      "      BatchNorm2d-12              [-1, 8, 8, 8]              16\n",
      "          Dropout-13              [-1, 8, 8, 8]               0\n",
      "           Conv2d-14             [-1, 16, 6, 6]           1,152\n",
      "      BatchNorm2d-15             [-1, 16, 6, 6]              32\n",
      "          Dropout-16             [-1, 16, 6, 6]               0\n",
      "           Conv2d-17             [-1, 16, 4, 4]           2,304\n",
      "      BatchNorm2d-18             [-1, 16, 4, 4]              32\n",
      "          Dropout-19             [-1, 16, 4, 4]               0\n",
      "           Conv2d-20             [-1, 16, 4, 4]           2,304\n",
      "      BatchNorm2d-21             [-1, 16, 4, 4]              32\n",
      "          Dropout-22             [-1, 16, 4, 4]               0\n",
      "           Conv2d-23             [-1, 10, 4, 4]           1,440\n",
      "================================================================\n",
      "Total params: 15,560\n",
      "Trainable params: 15,560\n",
      "Non-trainable params: 0\n",
      "----------------------------------------------------------------\n",
      "Input size (MB): 0.00\n",
      "Forward/backward pass size (MB): 0.46\n",
      "Params size (MB): 0.06\n",
      "Estimated Total Size (MB): 0.53\n",
      "----------------------------------------------------------------\n"
     ]
    },
    {
     "name": "stderr",
     "output_type": "stream",
     "text": [
      "D:\\A Computer Vision\\Git\\erav1\\Session 6 - Backpropagation and Advanced Architectures\\Part 2\\model.py:72: UserWarning: Implicit dimension choice for log_softmax has been deprecated. Change the call to include dim=X as an argument.\n",
      "  return F.log_softmax(x)\n"
     ]
    }
   ],
   "source": [
    "model_summary(model,(1, 28, 28))"
   ]
  },
  {
   "cell_type": "code",
   "execution_count": 5,
   "metadata": {
    "id": "DqTWLaM5GHgH"
   },
   "outputs": [],
   "source": [
    "batch_size=128\n",
    "train_loader,test_loader =fetch_dataset(batch_size=batch_size)"
   ]
  },
  {
   "cell_type": "code",
   "execution_count": 6,
   "metadata": {
    "colab": {
     "base_uri": "https://localhost:8080/",
     "height": 1000
    },
    "id": "MMWbLWO6FuHb",
    "outputId": "84ba14af-13e0-4e1f-d73f-e175e2caa1ac"
   },
   "outputs": [
    {
     "name": "stderr",
     "output_type": "stream",
     "text": [
      "loss=0.12772078812122345 batch_id=468: 100%|█████████████████████████████████████████| 469/469 [00:13<00:00, 33.83it/s]\n"
     ]
    },
    {
     "name": "stdout",
     "output_type": "stream",
     "text": [
      "\n",
      "Test set: Average loss: 0.0463, Accuracy: 9861/10000 (99%)\n",
      "\n"
     ]
    },
    {
     "name": "stderr",
     "output_type": "stream",
     "text": [
      "loss=0.006040054839104414 batch_id=468: 100%|████████████████████████████████████████| 469/469 [00:13<00:00, 34.75it/s]\n"
     ]
    },
    {
     "name": "stdout",
     "output_type": "stream",
     "text": [
      "\n",
      "Test set: Average loss: 0.0412, Accuracy: 9867/10000 (99%)\n",
      "\n"
     ]
    },
    {
     "name": "stderr",
     "output_type": "stream",
     "text": [
      "loss=0.03562289476394653 batch_id=468: 100%|█████████████████████████████████████████| 469/469 [00:13<00:00, 34.84it/s]\n"
     ]
    },
    {
     "name": "stdout",
     "output_type": "stream",
     "text": [
      "\n",
      "Test set: Average loss: 0.0291, Accuracy: 9908/10000 (99%)\n",
      "\n"
     ]
    },
    {
     "name": "stderr",
     "output_type": "stream",
     "text": [
      "loss=0.07848306745290756 batch_id=468: 100%|█████████████████████████████████████████| 469/469 [00:13<00:00, 35.25it/s]\n"
     ]
    },
    {
     "name": "stdout",
     "output_type": "stream",
     "text": [
      "\n",
      "Test set: Average loss: 0.0282, Accuracy: 9911/10000 (99%)\n",
      "\n"
     ]
    },
    {
     "name": "stderr",
     "output_type": "stream",
     "text": [
      "loss=0.06802848726511002 batch_id=468: 100%|█████████████████████████████████████████| 469/469 [00:13<00:00, 35.16it/s]\n"
     ]
    },
    {
     "name": "stdout",
     "output_type": "stream",
     "text": [
      "\n",
      "Test set: Average loss: 0.0234, Accuracy: 9925/10000 (99%)\n",
      "\n"
     ]
    },
    {
     "name": "stderr",
     "output_type": "stream",
     "text": [
      "loss=0.07424920797348022 batch_id=468: 100%|█████████████████████████████████████████| 469/469 [00:16<00:00, 28.82it/s]\n"
     ]
    },
    {
     "name": "stdout",
     "output_type": "stream",
     "text": [
      "\n",
      "Test set: Average loss: 0.0255, Accuracy: 9921/10000 (99%)\n",
      "\n"
     ]
    },
    {
     "name": "stderr",
     "output_type": "stream",
     "text": [
      "loss=0.04436403140425682 batch_id=468: 100%|█████████████████████████████████████████| 469/469 [00:13<00:00, 34.38it/s]\n"
     ]
    },
    {
     "name": "stdout",
     "output_type": "stream",
     "text": [
      "\n",
      "Test set: Average loss: 0.0273, Accuracy: 9911/10000 (99%)\n",
      "\n"
     ]
    },
    {
     "name": "stderr",
     "output_type": "stream",
     "text": [
      "loss=0.011326604522764683 batch_id=468: 100%|████████████████████████████████████████| 469/469 [00:13<00:00, 34.13it/s]\n"
     ]
    },
    {
     "name": "stdout",
     "output_type": "stream",
     "text": [
      "\n",
      "Test set: Average loss: 0.0213, Accuracy: 9937/10000 (99%)\n",
      "\n"
     ]
    },
    {
     "name": "stderr",
     "output_type": "stream",
     "text": [
      "loss=0.00784445833414793 batch_id=468: 100%|█████████████████████████████████████████| 469/469 [00:13<00:00, 34.67it/s]\n"
     ]
    },
    {
     "name": "stdout",
     "output_type": "stream",
     "text": [
      "\n",
      "Test set: Average loss: 0.0213, Accuracy: 9930/10000 (99%)\n",
      "\n"
     ]
    },
    {
     "name": "stderr",
     "output_type": "stream",
     "text": [
      "loss=0.041336171329021454 batch_id=468: 100%|████████████████████████████████████████| 469/469 [00:13<00:00, 33.95it/s]\n"
     ]
    },
    {
     "name": "stdout",
     "output_type": "stream",
     "text": [
      "\n",
      "Test set: Average loss: 0.0218, Accuracy: 9930/10000 (99%)\n",
      "\n"
     ]
    }
   ],
   "source": [
    "\n",
    "model = Net().to(device)\n",
    "optimizer = optim.SGD(model.parameters(), lr=0.01, momentum=0.9)\n",
    "\n",
    "for epoch in range(10):\n",
    "    train(model, device, train_loader, optimizer, epoch)\n",
    "    test(model, device, test_loader)"
   ]
  },
  {
   "cell_type": "code",
   "execution_count": null,
   "metadata": {
    "id": "So5uk4EkHW6R"
   },
   "outputs": [],
   "source": []
  }
 ],
 "metadata": {
  "accelerator": "GPU",
  "colab": {
   "provenance": []
  },
  "kernelspec": {
   "display_name": "cnn",
   "language": "python",
   "name": "cnn"
  },
  "language_info": {
   "codemirror_mode": {
    "name": "ipython",
    "version": 3
   },
   "file_extension": ".py",
   "mimetype": "text/x-python",
   "name": "python",
   "nbconvert_exporter": "python",
   "pygments_lexer": "ipython3",
   "version": "3.9.16"
  }
 },
 "nbformat": 4,
 "nbformat_minor": 1
}
